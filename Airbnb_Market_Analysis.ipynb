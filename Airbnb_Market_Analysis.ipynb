{
 "cells": [
  {
   "cell_type": "markdown",
   "metadata": {},
   "source": [
    "# Airbnb Dublin Market Analysis"
   ]
  },
  {
   "cell_type": "markdown",
   "metadata": {},
   "source": [
    "## Content\n",
    "\n",
    "- [Assignment](#assgnmt)\n",
    "- [Preparation](#prep)\n",
    "- [Search Patterns Exploration](#search_patt)\n",
    "- [Hosts Acceptance Exploration](#host_accpt)"
   ]
  },
  {
   "cell_type": "markdown",
   "metadata": {},
   "source": [
    "## Assignment <a id=\"assgnmt\"></a>\n",
    "New Airbnb manager in Dublin want to understand demand/supply in the market, especially:\n",
    "- what guests are searching for in Dublin;\n",
    "- which inquiries hosts tend to accept;\n",
    "- understand overall gaps between guests demand and host supply to increase the number of bookings.\n",
    "\n",
    "For this, two datasets are given with info within 14 days (1-Oct - 14-Oct):\n",
    "- `searches` - contains info about users and what filters they apply to search in Airbnb.\n",
    "- `contacts` - contains info for every time that an assigned visitor makes an inquiry for a stay in a listing.\n",
    "\n",
    "\n",
    "*[fields description](airbnb_datasets_info.txt)"
   ]
  },
  {
   "cell_type": "markdown",
   "metadata": {},
   "source": [
    "## Preparation <a id=\"prep\"></a>"
   ]
  },
  {
   "cell_type": "code",
   "execution_count": 1,
   "metadata": {
    "ExecuteTime": {
     "end_time": "2023-07-08T08:07:58.158986400Z",
     "start_time": "2023-07-08T08:07:57.738658400Z"
    }
   },
   "outputs": [],
   "source": [
    "#Import Libraries and datasets\n",
    "import numpy as np\n",
    "import pandas as pd\n",
    "import matplotlib.pyplot as plt\n",
    "import seaborn as sns\n",
    "\n",
    "\n",
    "contacts = pd.read_csv('contacts.tsv', sep='\\t')\n",
    "searches = pd.read_csv('searches.tsv', sep='\\t')"
   ]
  },
  {
   "cell_type": "markdown",
   "metadata": {},
   "source": [
    "## Search Patterns Exploration <a id=\"search_patt\"></a>\n",
    "On this stage following questions will be explored:\n",
    "1. How long guests want to stay in?\n",
    "2. How many guest want to stay in one home?\n",
    "3. How soon guest want the room?\n",
    "4. What type of housing do guests usually look for?\n",
    "5. How much money do guests plan to spend on housing?\n",
    "6. What neighborhood preferable?\n",
    "7. From what countries are they?"
   ]
  },
  {
   "cell_type": "code",
   "execution_count": 2,
   "metadata": {
    "ExecuteTime": {
     "end_time": "2023-07-08T08:07:58.159991800Z",
     "start_time": "2023-07-08T08:07:58.085474Z"
    },
    "collapsed": false,
    "jupyter": {
     "outputs_hidden": false
    }
   },
   "outputs": [
    {
     "name": "stdout",
     "output_type": "stream",
     "text": [
      "<class 'pandas.core.frame.DataFrame'>\n",
      "RangeIndex: 35737 entries, 0 to 35736\n",
      "Data columns (total 13 columns):\n",
      " #   Column                Non-Null Count  Dtype  \n",
      "---  ------                --------------  -----  \n",
      " 0   ds                    35737 non-null  object \n",
      " 1   id_user               35737 non-null  object \n",
      " 2   ds_checkin            23888 non-null  object \n",
      " 3   ds_checkout           23888 non-null  object \n",
      " 4   n_searches            35737 non-null  int64  \n",
      " 5   n_nights              23888 non-null  float64\n",
      " 6   n_guests_min          35737 non-null  int64  \n",
      " 7   n_guests_max          35737 non-null  int64  \n",
      " 8   origin_country        35737 non-null  object \n",
      " 9   filter_price_min      13322 non-null  float64\n",
      " 10  filter_price_max      13322 non-null  float64\n",
      " 11  filter_room_types     16191 non-null  object \n",
      " 12  filter_neighborhoods  1346 non-null   object \n",
      "dtypes: float64(3), int64(3), object(7)\n",
      "memory usage: 3.5+ MB\n"
     ]
    }
   ],
   "source": [
    "#Undrstand types of data in the dataset\n",
    "searches.info()"
   ]
  },
  {
   "cell_type": "code",
   "execution_count": 3,
   "metadata": {
    "ExecuteTime": {
     "end_time": "2023-07-08T08:07:58.159991800Z",
     "start_time": "2023-07-08T08:07:58.114599500Z"
    },
    "collapsed": false,
    "jupyter": {
     "outputs_hidden": false
    }
   },
   "outputs": [],
   "source": [
    "#Change string date fields to datetime format for easier analysis\n",
    "searches['ds'] = pd.to_datetime(searches['ds'])\n",
    "searches['ds_checkout'] = pd.to_datetime(searches['ds_checkout'])\n",
    "searches['ds_checkin'] = pd.to_datetime(searches['ds_checkin'])"
   ]
  },
  {
   "cell_type": "code",
   "execution_count": 4,
   "metadata": {
    "ExecuteTime": {
     "end_time": "2023-07-08T08:07:58.241981Z",
     "start_time": "2023-07-08T08:07:58.140896400Z"
    },
    "collapsed": false,
    "jupyter": {
     "outputs_hidden": false
    }
   },
   "outputs": [
    {
     "data": {
      "text/html": [
       "<div>\n",
       "<style scoped>\n",
       "    .dataframe tbody tr th:only-of-type {\n",
       "        vertical-align: middle;\n",
       "    }\n",
       "\n",
       "    .dataframe tbody tr th {\n",
       "        vertical-align: top;\n",
       "    }\n",
       "\n",
       "    .dataframe thead th {\n",
       "        text-align: right;\n",
       "    }\n",
       "</style>\n",
       "<table border=\"1\" class=\"dataframe\">\n",
       "  <thead>\n",
       "    <tr style=\"text-align: right;\">\n",
       "      <th></th>\n",
       "      <th>n_searches</th>\n",
       "      <th>n_nights</th>\n",
       "      <th>n_guests_min</th>\n",
       "      <th>n_guests_max</th>\n",
       "      <th>filter_price_min</th>\n",
       "      <th>filter_price_max</th>\n",
       "    </tr>\n",
       "  </thead>\n",
       "  <tbody>\n",
       "    <tr>\n",
       "      <th>count</th>\n",
       "      <td>35737.000000</td>\n",
       "      <td>23888.000000</td>\n",
       "      <td>35737.000000</td>\n",
       "      <td>35737.000000</td>\n",
       "      <td>13322.000000</td>\n",
       "      <td>1.332200e+04</td>\n",
       "    </tr>\n",
       "    <tr>\n",
       "      <th>mean</th>\n",
       "      <td>9.206565</td>\n",
       "      <td>7.672765</td>\n",
       "      <td>1.742955</td>\n",
       "      <td>2.105857</td>\n",
       "      <td>8.470200</td>\n",
       "      <td>9.019063e+07</td>\n",
       "    </tr>\n",
       "    <tr>\n",
       "      <th>std</th>\n",
       "      <td>17.348746</td>\n",
       "      <td>21.557614</td>\n",
       "      <td>1.460440</td>\n",
       "      <td>1.817358</td>\n",
       "      <td>53.987679</td>\n",
       "      <td>2.978482e+08</td>\n",
       "    </tr>\n",
       "    <tr>\n",
       "      <th>min</th>\n",
       "      <td>1.000000</td>\n",
       "      <td>0.000000</td>\n",
       "      <td>1.000000</td>\n",
       "      <td>1.000000</td>\n",
       "      <td>0.000000</td>\n",
       "      <td>9.000000e+00</td>\n",
       "    </tr>\n",
       "    <tr>\n",
       "      <th>25%</th>\n",
       "      <td>1.000000</td>\n",
       "      <td>2.000000</td>\n",
       "      <td>1.000000</td>\n",
       "      <td>1.000000</td>\n",
       "      <td>0.000000</td>\n",
       "      <td>8.600000e+01</td>\n",
       "    </tr>\n",
       "    <tr>\n",
       "      <th>50%</th>\n",
       "      <td>4.000000</td>\n",
       "      <td>3.000000</td>\n",
       "      <td>1.000000</td>\n",
       "      <td>2.000000</td>\n",
       "      <td>0.000000</td>\n",
       "      <td>1.390000e+02</td>\n",
       "    </tr>\n",
       "    <tr>\n",
       "      <th>75%</th>\n",
       "      <td>10.000000</td>\n",
       "      <td>5.000000</td>\n",
       "      <td>2.000000</td>\n",
       "      <td>2.000000</td>\n",
       "      <td>0.000000</td>\n",
       "      <td>3.010000e+02</td>\n",
       "    </tr>\n",
       "    <tr>\n",
       "      <th>max</th>\n",
       "      <td>448.000000</td>\n",
       "      <td>399.000000</td>\n",
       "      <td>16.000000</td>\n",
       "      <td>16.000000</td>\n",
       "      <td>1250.000000</td>\n",
       "      <td>1.073742e+09</td>\n",
       "    </tr>\n",
       "  </tbody>\n",
       "</table>\n",
       "</div>"
      ],
      "text/plain": [
       "         n_searches      n_nights  n_guests_min  n_guests_max  \\\n",
       "count  35737.000000  23888.000000  35737.000000  35737.000000   \n",
       "mean       9.206565      7.672765      1.742955      2.105857   \n",
       "std       17.348746     21.557614      1.460440      1.817358   \n",
       "min        1.000000      0.000000      1.000000      1.000000   \n",
       "25%        1.000000      2.000000      1.000000      1.000000   \n",
       "50%        4.000000      3.000000      1.000000      2.000000   \n",
       "75%       10.000000      5.000000      2.000000      2.000000   \n",
       "max      448.000000    399.000000     16.000000     16.000000   \n",
       "\n",
       "       filter_price_min  filter_price_max  \n",
       "count      13322.000000      1.332200e+04  \n",
       "mean           8.470200      9.019063e+07  \n",
       "std           53.987679      2.978482e+08  \n",
       "min            0.000000      9.000000e+00  \n",
       "25%            0.000000      8.600000e+01  \n",
       "50%            0.000000      1.390000e+02  \n",
       "75%            0.000000      3.010000e+02  \n",
       "max         1250.000000      1.073742e+09  "
      ]
     },
     "execution_count": 4,
     "metadata": {},
     "output_type": "execute_result"
    }
   ],
   "source": [
    "#Understand basic statistics and outliers\n",
    "searches.describe()"
   ]
  },
  {
   "cell_type": "code",
   "execution_count": 5,
   "metadata": {
    "ExecuteTime": {
     "end_time": "2023-07-08T08:07:58.422799100Z",
     "start_time": "2023-07-08T08:07:58.196308500Z"
    },
    "collapsed": false,
    "jupyter": {
     "outputs_hidden": false
    }
   },
   "outputs": [
    {
     "data": {
      "image/png": "[encoded data removed]",
      "text/plain": [
       "<Figure size 640x480 with 1 Axes>"
      ]
     },
     "metadata": {},
     "output_type": "display_data"
    }
   ],
   "source": [
    "#Find how long do usually guest want to stay in (num of nights)\n",
    "nights_count = searches.groupby('n_nights').id_user.count().reset_index()\n",
    "\n",
    "#Due to dramatic outliers present, set limit of 95% data (up to 29 day)\n",
    "perc_95 = np.percentile(searches[searches['n_nights'].notna()]['n_nights'], 95)\n",
    "nights_count = nights_count[nights_count['n_nights']<=perc_95]\n",
    "\n",
    "#Build bar chart to compare\n",
    "plt.bar(nights_count['n_nights'], nights_count['id_user'])\n",
    "plt.xlabel('num of nights')\n",
    "plt.ylabel('searches')\n",
    "plt.title('Night options distribution')\n",
    "\n",
    "plt.show()"
   ]
  },
  {
   "cell_type": "markdown",
   "metadata": {},
   "source": [
    "Most popular option is 2 and 3 being the next popular option.\n",
    "Generally, guests plan to stay in between 2 and 5 days (50% of distribution)"
   ]
  },
  {
   "cell_type": "code",
   "execution_count": 6,
   "metadata": {
    "ExecuteTime": {
     "end_time": "2023-07-08T08:07:58.585579700Z",
     "start_time": "2023-07-08T08:07:58.422799100Z"
    },
    "collapsed": false,
    "jupyter": {
     "outputs_hidden": false
    }
   },
   "outputs": [
    {
     "data": {
      "image/png": "[encoded data removed]",
      "text/plain": [
       "<Figure size 640x480 with 1 Axes>"
      ]
     },
     "metadata": {},
     "output_type": "display_data"
    }
   ],
   "source": [
    "#Build distribution plot of max and min expected guests to determine popular sceneries\n",
    "plt.hist(searches['n_guests_min'], histtype='step', bins=20, label='n_guests_min')\n",
    "plt.hist(searches['n_guests_max'], histtype='step', bins=20, label='n_guests_max')\n",
    "plt.xlabel('num of guests')\n",
    "plt.ylabel('searches')\n",
    "plt.title('Distribution of min/max guests filter')\n",
    "plt.legend()\n",
    "\n",
    "plt.show()"
   ]
  },
  {
   "cell_type": "markdown",
   "metadata": {},
   "source": [
    "Both have similar distribution and generally most of the users looks for house for 1-2 person"
   ]
  },
  {
   "cell_type": "code",
   "execution_count": 7,
   "metadata": {
    "ExecuteTime": {
     "end_time": "2023-07-08T08:07:58.831194Z",
     "start_time": "2023-07-08T08:07:58.585579700Z"
    },
    "collapsed": false,
    "jupyter": {
     "outputs_hidden": false
    }
   },
   "outputs": [
    {
     "data": {
      "image/png": "[encoded data removed]",
      "text/plain": [
       "<Figure size 500x500 with 1 Axes>"
      ]
     },
     "metadata": {},
     "output_type": "display_data"
    }
   ],
   "source": [
    "#How many days do people get ready before the trip?\n",
    "#Add field 'prep_duration' (diff between search and check-in date) for more convenience during calculation\n",
    "searches['prep_duration'] = searches['ds_checkin'] - searches['ds']\n",
    "\n",
    "prep_distr = searches['prep_duration'].dropna().dt.days\n",
    "\n",
    "#Build distribution and keep only values below 150 (it's 90% of data) due to extreme outliers\n",
    "prep_distr_150 = prep_distr[prep_distr<150]\n",
    "\n",
    "sns.displot(x=prep_distr_150)\n",
    "plt.axvline(np.median(prep_distr), color='red', linestyle='--', alpha=0.5, label='median')\n",
    "plt.xlabel('days')\n",
    "plt.ylabel('searches')\n",
    "plt.title('Days from search to check-in distribution')\n",
    "plt.legend()\n",
    "\n",
    "plt.show()"
   ]
  },
  {
   "cell_type": "markdown",
   "metadata": {},
   "source": [
    "People are usually looking for a house for 10-67 dasys in advance (median - 26 days)"
   ]
  },
  {
   "cell_type": "code",
   "execution_count": 8,
   "metadata": {
    "ExecuteTime": {
     "end_time": "2023-07-08T08:07:58.960555400Z",
     "start_time": "2023-07-08T08:07:58.832195Z"
    },
    "collapsed": false,
    "jupyter": {
     "outputs_hidden": false
    }
   },
   "outputs": [
    {
     "data": {
      "image/png": "[encoded data removed]",
      "text/plain": [
       "<Figure size 640x480 with 1 Axes>"
      ]
     },
     "metadata": {},
     "output_type": "display_data"
    }
   ],
   "source": [
    "#Types of room searched for\n",
    "room_filter = searches['filter_room_types'].copy().dropna()\n",
    "\n",
    "#As users can choose several room types at one search, create loop to separate them\n",
    "room_list = []\n",
    "for sets in room_filter:\n",
    "    for room in sets.split(','):\n",
    "        room_list.append(room)\n",
    "\n",
    "#Create DataFrame based on list and clean up blank cells\n",
    "room_df = pd.DataFrame(room_list, columns=['type'])\n",
    "room_df.drop(room_df[room_df['type']==''].index, inplace=True)\n",
    "\n",
    "#Group by type to find total times when each type occurs in searches\n",
    "types_grouped = room_df.groupby('type').size().reset_index(name='count')\n",
    "\n",
    "#Build bar chart\n",
    "plt.bar(types_grouped['type'], types_grouped['count'])\n",
    "plt.xlabel('searches')\n",
    "plt.title('Room type frequency in search')\n",
    "\n",
    "plt.show()"
   ]
  },
  {
   "cell_type": "markdown",
   "metadata": {},
   "source": [
    "Most of users look for entire house"
   ]
  },
  {
   "cell_type": "code",
   "execution_count": 9,
   "metadata": {
    "ExecuteTime": {
     "end_time": "2023-07-08T08:07:59.209107800Z",
     "start_time": "2023-07-08T08:07:58.960555400Z"
    },
    "collapsed": false,
    "jupyter": {
     "outputs_hidden": false
    }
   },
   "outputs": [
    {
     "data": {
      "image/png": "[encoded data removed]",
      "text/plain": [
       "<Figure size 500x500 with 1 Axes>"
      ]
     },
     "metadata": {},
     "output_type": "display_data"
    }
   ],
   "source": [
    "#Max costs of housing\n",
    "\n",
    "#'filter_price_max' has extreme outliers, it seems that some error occurs during data collection\n",
    "#So, keep only values that below 1200 (10% of data is beyond this)\n",
    "cleaned_price = searches[searches['filter_price_max'] <= 1200]['filter_price_max']\n",
    "\n",
    "#Build histogram\n",
    "sns.displot(x=cleaned_price)\n",
    "plt.xlabel('price')\n",
    "plt.ylabel('searches')\n",
    "plt.title('Price per night distribution')\n",
    "\n",
    "plt.show()"
   ]
  },
  {
   "cell_type": "code",
   "execution_count": 10,
   "metadata": {
    "ExecuteTime": {
     "end_time": "2023-07-08T08:07:59.239945500Z",
     "start_time": "2023-07-08T08:07:59.214268600Z"
    }
   },
   "outputs": [
    {
     "data": {
      "text/html": [
       "<div>\n",
       "<style scoped>\n",
       "    .dataframe tbody tr th:only-of-type {\n",
       "        vertical-align: middle;\n",
       "    }\n",
       "\n",
       "    .dataframe tbody tr th {\n",
       "        vertical-align: top;\n",
       "    }\n",
       "\n",
       "    .dataframe thead th {\n",
       "        text-align: right;\n",
       "    }\n",
       "</style>\n",
       "<table border=\"1\" class=\"dataframe\">\n",
       "  <thead>\n",
       "    <tr style=\"text-align: right;\">\n",
       "      <th></th>\n",
       "      <th>name</th>\n",
       "      <th>count</th>\n",
       "    </tr>\n",
       "  </thead>\n",
       "  <tbody>\n",
       "    <tr>\n",
       "      <th>0</th>\n",
       "      <td>No matter</td>\n",
       "      <td>34391</td>\n",
       "    </tr>\n",
       "    <tr>\n",
       "      <th>1</th>\n",
       "      <td>City Centre</td>\n",
       "      <td>1164</td>\n",
       "    </tr>\n",
       "    <tr>\n",
       "      <th>2</th>\n",
       "      <td>Temple Bar</td>\n",
       "      <td>193</td>\n",
       "    </tr>\n",
       "    <tr>\n",
       "      <th>3</th>\n",
       "      <td>Old City</td>\n",
       "      <td>156</td>\n",
       "    </tr>\n",
       "    <tr>\n",
       "      <th>4</th>\n",
       "      <td>Docklands</td>\n",
       "      <td>105</td>\n",
       "    </tr>\n",
       "  </tbody>\n",
       "</table>\n",
       "</div>"
      ],
      "text/plain": [
       "          name  count\n",
       "0    No matter  34391\n",
       "1  City Centre   1164\n",
       "2   Temple Bar    193\n",
       "3     Old City    156\n",
       "4    Docklands    105"
      ]
     },
     "execution_count": 10,
     "metadata": {},
     "output_type": "execute_result"
    }
   ],
   "source": [
    "#Neighorhood preferences\n",
    "\n",
    "#96% searches field 'filter_neighborhoods' have null values, it can be either due to data collection error or just because most users don't apply that\n",
    "#Let's assume 2nd scenario (don't apply) -> fill in null values as 'No matter'\n",
    "neighborhood = searches['filter_neighborhoods'].fillna('No matter')\n",
    "\n",
    "#As users can choose several neighborhoods at one search, create loop to separate them\n",
    "nhood_list = []\n",
    "for items in neighborhood:\n",
    "    for item in items.split(','):\n",
    "        nhood_list.append(item)\n",
    "\n",
    "#Create DataFrame based on list and clean up blank cells\n",
    "nhood_df = pd.DataFrame(nhood_list, columns=['name'])\n",
    "nhood_df.drop(nhood_df[nhood_df['name']==''].index, inplace=True)\n",
    "\n",
    "#Group neighborhoods to find total times when each occurs in search\n",
    "nhood_grouped = nhood_df.groupby('name').size().reset_index(name='count')\n",
    "\n",
    "#Show top 5\n",
    "top_5_nhoods = nhood_grouped.nlargest(5, 'count').reset_index(drop=True)\n",
    "top_5_nhoods"
   ]
  },
  {
   "cell_type": "markdown",
   "metadata": {},
   "source": [
    " Based on the table, mostly users aren't interested in some specific neighborhood, but 'Cityt Center' is a common choice"
   ]
  },
  {
   "cell_type": "code",
   "execution_count": 11,
   "metadata": {
    "ExecuteTime": {
     "end_time": "2023-07-08T08:07:59.395580700Z",
     "start_time": "2023-07-08T08:07:59.241946200Z"
    },
    "collapsed": false,
    "jupyter": {
     "outputs_hidden": false
    }
   },
   "outputs": [
    {
     "data": {
      "image/png": "[encoded data removed]",
      "text/plain": [
       "<Figure size 640x480 with 1 Axes>"
      ]
     },
     "metadata": {},
     "output_type": "display_data"
    }
   ],
   "source": [
    "#User's origin country variation\n",
    "user_country = searches[['id_user', 'origin_country']]\n",
    "\n",
    "#Group by country to find unique users\n",
    "country = user_country.groupby('origin_country').id_user.nunique().reset_index()\n",
    "\n",
    "#As users from 131 country are interested in Dublin, let's keep top 10 of them\n",
    "top_10_counrty = country.nlargest(10, 'id_user').reset_index(drop=True)\n",
    "\n",
    "#Build bar chart\n",
    "plt.bar(top_10_counrty['origin_country'], top_10_counrty['id_user'])\n",
    "plt.title('Searches by top 10 countries')\n",
    "\n",
    "plt.show()"
   ]
  },
  {
   "cell_type": "markdown",
   "metadata": {},
   "source": [
    "The chart shows that users from English-speaking countries are most interested in going to Dublin"
   ]
  },
  {
   "cell_type": "markdown",
   "metadata": {},
   "source": [
    "## Hosts Acceptance Exploration <a id=\"host_accpt\"></a>\n",
    "On this stage the following points will be explored:\n",
    "1. How many nights most accepted for hosts?\n",
    "2. How many guests usually hosts tend to accept?\n",
    "3. Demand and acceptance over months\n"
   ]
  },
  {
   "cell_type": "code",
   "execution_count": 12,
   "metadata": {
    "ExecuteTime": {
     "end_time": "2023-07-08T08:07:59.500249100Z",
     "start_time": "2023-07-08T08:07:59.385433400Z"
    },
    "collapsed": false,
    "jupyter": {
     "outputs_hidden": false
    }
   },
   "outputs": [],
   "source": [
    "#Change string date fields to datetime format for easier analysis\n",
    "contacts['ts_contact_at'] = pd.to_datetime(contacts['ts_contact_at'])\n",
    "contacts['ts_reply_at'] = pd.to_datetime(contacts['ts_reply_at'])\n",
    "contacts['ts_accepted_at'] = pd.to_datetime(contacts['ts_accepted_at'])\n",
    "contacts['ts_booking_at'] = pd.to_datetime(contacts['ts_booking_at'])\n",
    "contacts['ds_checkin'] = pd.to_datetime(contacts['ds_checkin'])\n",
    "contacts['ds_checkout'] = pd.to_datetime(contacts['ds_checkout'])\n",
    "\n",
    "#Add status 'Accepted' / 'Not accepted' to each contact\n",
    "contacts['status'] = contacts.ts_accepted_at\\\n",
    "    .apply(lambda x: 'Accepted' if pd.notna(x) else 'Not Accepted')"
   ]
  },
  {
   "cell_type": "code",
   "execution_count": 13,
   "metadata": {
    "ExecuteTime": {
     "end_time": "2023-07-08T08:07:59.501250500Z",
     "start_time": "2023-07-08T08:07:59.432182200Z"
    }
   },
   "outputs": [
    {
     "name": "stdout",
     "output_type": "stream",
     "text": [
      "<class 'pandas.core.frame.DataFrame'>\n",
      "RangeIndex: 7823 entries, 0 to 7822\n",
      "Data columns (total 12 columns):\n",
      " #   Column          Non-Null Count  Dtype         \n",
      "---  ------          --------------  -----         \n",
      " 0   id_guest        7823 non-null   object        \n",
      " 1   id_host         7823 non-null   object        \n",
      " 2   id_listing      7823 non-null   object        \n",
      " 3   ts_contact_at   7823 non-null   datetime64[ns]\n",
      " 4   ts_reply_at     7219 non-null   datetime64[ns]\n",
      " 5   ts_accepted_at  3627 non-null   datetime64[ns]\n",
      " 6   ts_booking_at   2174 non-null   datetime64[ns]\n",
      " 7   ds_checkin      7823 non-null   datetime64[ns]\n",
      " 8   ds_checkout     7823 non-null   datetime64[ns]\n",
      " 9   n_guests        7823 non-null   int64         \n",
      " 10  n_messages      7823 non-null   int64         \n",
      " 11  status          7823 non-null   object        \n",
      "dtypes: datetime64[ns](6), int64(2), object(4)\n",
      "memory usage: 733.5+ KB\n"
     ]
    }
   ],
   "source": [
    "#Undrstand types of data in the dataset\n",
    "contacts.info()"
   ]
  },
  {
   "cell_type": "code",
   "execution_count": 14,
   "metadata": {
    "ExecuteTime": {
     "end_time": "2023-07-08T08:07:59.502250800Z",
     "start_time": "2023-07-08T08:07:59.445948500Z"
    },
    "collapsed": false,
    "jupyter": {
     "outputs_hidden": false
    }
   },
   "outputs": [
    {
     "data": {
      "text/html": [
       "<div>\n",
       "<style scoped>\n",
       "    .dataframe tbody tr th:only-of-type {\n",
       "        vertical-align: middle;\n",
       "    }\n",
       "\n",
       "    .dataframe tbody tr th {\n",
       "        vertical-align: top;\n",
       "    }\n",
       "\n",
       "    .dataframe thead th {\n",
       "        text-align: right;\n",
       "    }\n",
       "</style>\n",
       "<table border=\"1\" class=\"dataframe\">\n",
       "  <thead>\n",
       "    <tr style=\"text-align: right;\">\n",
       "      <th></th>\n",
       "      <th>n_guests</th>\n",
       "      <th>n_messages</th>\n",
       "    </tr>\n",
       "  </thead>\n",
       "  <tbody>\n",
       "    <tr>\n",
       "      <th>count</th>\n",
       "      <td>7823.000000</td>\n",
       "      <td>7823.000000</td>\n",
       "    </tr>\n",
       "    <tr>\n",
       "      <th>mean</th>\n",
       "      <td>2.422600</td>\n",
       "      <td>6.319954</td>\n",
       "    </tr>\n",
       "    <tr>\n",
       "      <th>std</th>\n",
       "      <td>1.617347</td>\n",
       "      <td>6.472827</td>\n",
       "    </tr>\n",
       "    <tr>\n",
       "      <th>min</th>\n",
       "      <td>1.000000</td>\n",
       "      <td>1.000000</td>\n",
       "    </tr>\n",
       "    <tr>\n",
       "      <th>25%</th>\n",
       "      <td>1.000000</td>\n",
       "      <td>2.000000</td>\n",
       "    </tr>\n",
       "    <tr>\n",
       "      <th>50%</th>\n",
       "      <td>2.000000</td>\n",
       "      <td>4.000000</td>\n",
       "    </tr>\n",
       "    <tr>\n",
       "      <th>75%</th>\n",
       "      <td>3.000000</td>\n",
       "      <td>8.000000</td>\n",
       "    </tr>\n",
       "    <tr>\n",
       "      <th>max</th>\n",
       "      <td>16.000000</td>\n",
       "      <td>102.000000</td>\n",
       "    </tr>\n",
       "  </tbody>\n",
       "</table>\n",
       "</div>"
      ],
      "text/plain": [
       "          n_guests   n_messages\n",
       "count  7823.000000  7823.000000\n",
       "mean      2.422600     6.319954\n",
       "std       1.617347     6.472827\n",
       "min       1.000000     1.000000\n",
       "25%       1.000000     2.000000\n",
       "50%       2.000000     4.000000\n",
       "75%       3.000000     8.000000\n",
       "max      16.000000   102.000000"
      ]
     },
     "execution_count": 14,
     "metadata": {},
     "output_type": "execute_result"
    }
   ],
   "source": [
    "#Understand basic statistics and outliers\n",
    "contacts.describe()"
   ]
  },
  {
   "cell_type": "code",
   "execution_count": 15,
   "metadata": {
    "ExecuteTime": {
     "end_time": "2023-07-08T08:07:59.503339100Z",
     "start_time": "2023-07-08T08:07:59.474818500Z"
    },
    "collapsed": false,
    "jupyter": {
     "outputs_hidden": false
    }
   },
   "outputs": [
    {
     "data": {
      "text/plain": [
       "0.46363287741275727"
      ]
     },
     "execution_count": 15,
     "metadata": {},
     "output_type": "execute_result"
    }
   ],
   "source": [
    "#Look at overall acceptance ratio\n",
    "accept_ratio = contacts[contacts.status=='Accepted'].shape[0] / contacts.shape[0]\n",
    "accept_ratio"
   ]
  },
  {
   "cell_type": "code",
   "execution_count": 16,
   "metadata": {
    "ExecuteTime": {
     "end_time": "2023-07-08T08:07:59.535961200Z",
     "start_time": "2023-07-08T08:07:59.484978800Z"
    },
    "collapsed": false,
    "jupyter": {
     "outputs_hidden": false
    }
   },
   "outputs": [
    {
     "data": {
      "text/html": [
       "<div>\n",
       "<style scoped>\n",
       "    .dataframe tbody tr th:only-of-type {\n",
       "        vertical-align: middle;\n",
       "    }\n",
       "\n",
       "    .dataframe tbody tr th {\n",
       "        vertical-align: top;\n",
       "    }\n",
       "\n",
       "    .dataframe thead th {\n",
       "        text-align: right;\n",
       "    }\n",
       "</style>\n",
       "<table border=\"1\" class=\"dataframe\">\n",
       "  <thead>\n",
       "    <tr style=\"text-align: right;\">\n",
       "      <th>status</th>\n",
       "      <th>n_nights_cont</th>\n",
       "      <th>Accepted</th>\n",
       "      <th>Not Accepted</th>\n",
       "      <th>Total contacts</th>\n",
       "    </tr>\n",
       "  </thead>\n",
       "  <tbody>\n",
       "    <tr>\n",
       "      <th>0</th>\n",
       "      <td>1</td>\n",
       "      <td>483.0</td>\n",
       "      <td>667.0</td>\n",
       "      <td>1150.0</td>\n",
       "    </tr>\n",
       "    <tr>\n",
       "      <th>1</th>\n",
       "      <td>2</td>\n",
       "      <td>854.0</td>\n",
       "      <td>897.0</td>\n",
       "      <td>1751.0</td>\n",
       "    </tr>\n",
       "    <tr>\n",
       "      <th>2</th>\n",
       "      <td>3</td>\n",
       "      <td>890.0</td>\n",
       "      <td>880.0</td>\n",
       "      <td>1770.0</td>\n",
       "    </tr>\n",
       "    <tr>\n",
       "      <th>3</th>\n",
       "      <td>4</td>\n",
       "      <td>543.0</td>\n",
       "      <td>613.0</td>\n",
       "      <td>1156.0</td>\n",
       "    </tr>\n",
       "    <tr>\n",
       "      <th>4</th>\n",
       "      <td>5</td>\n",
       "      <td>227.0</td>\n",
       "      <td>251.0</td>\n",
       "      <td>478.0</td>\n",
       "    </tr>\n",
       "  </tbody>\n",
       "</table>\n",
       "</div>"
      ],
      "text/plain": [
       "status  n_nights_cont  Accepted  Not Accepted  Total contacts\n",
       "0                   1     483.0         667.0          1150.0\n",
       "1                   2     854.0         897.0          1751.0\n",
       "2                   3     890.0         880.0          1770.0\n",
       "3                   4     543.0         613.0          1156.0\n",
       "4                   5     227.0         251.0           478.0"
      ]
     },
     "execution_count": 16,
     "metadata": {},
     "output_type": "execute_result"
    }
   ],
   "source": [
    "#Let's look at acceptence in terms of the number of nights\n",
    "#Add field 'n_nights_conf' to determine num of confirmed nights in list\n",
    "contacts['n_nights_cont'] = contacts['ds_checkout'] - contacts['ds_checkin']\n",
    "contacts['n_nights_cont'] = contacts['n_nights_cont'].dt.days #change data type to int\n",
    "\n",
    "#Bulid pivot table for each day option\n",
    "nights_status = contacts.groupby(['n_nights_cont', 'status']).size().reset_index(name='count')\n",
    "nights_status_pivot = nights_status.pivot(columns='status', index='n_nights_cont', values='count').reset_index()\n",
    "\n",
    "nights_status_pivot['Accepted'].fillna(0, inplace=True) #replace null values (if no accepted days)\n",
    "\n",
    "#Add 'Total contacts' column\n",
    "nights_status_pivot['Total contacts'] = nights_status_pivot['Accepted'] + nights_status_pivot['Not Accepted']\n",
    "\n",
    "nights_status_pivot.head()"
   ]
  },
  {
   "cell_type": "code",
   "execution_count": 17,
   "metadata": {
    "ExecuteTime": {
     "end_time": "2023-07-08T08:07:59.843512100Z",
     "start_time": "2023-07-08T08:07:59.513511400Z"
    },
    "collapsed": false,
    "jupyter": {
     "outputs_hidden": false
    }
   },
   "outputs": [
    {
     "data": {
      "image/png": "[encoded data removed]",
      "text/plain": [
       "<Figure size 1200x500 with 2 Axes>"
      ]
     },
     "metadata": {},
     "output_type": "display_data"
    }
   ],
   "source": [
    "#Like in searchers distribution set limit up to 29 day (95 percentile)\n",
    "nights_status_pivot_29 = nights_status_pivot[nights_status_pivot['n_nights_cont'] <= perc_95]\n",
    "\n",
    "#Build two plots Accepted / NOT Accepted nights option distribution\n",
    "plt.figure(figsize=(12, 5))\n",
    "plt.suptitle('Nights options distribution')\n",
    "\n",
    "plt.subplot(1, 2, 1)\n",
    "plt.bar(nights_status_pivot_29['n_nights_cont'], nights_status_pivot_29['Accepted'])\n",
    "plt.xlabel('num of nights')\n",
    "plt.ylabel('inquiries')\n",
    "plt.title('Accepted by hosts')\n",
    "\n",
    "plt.subplot(1, 2, 2)\n",
    "plt.bar(nights_status_pivot_29['n_nights_cont'], nights_status_pivot_29['Not Accepted'])\n",
    "plt.xlabel('num of nights')\n",
    "plt.ylabel('inquiries')\n",
    "plt.title('NOT Accepted by hosts')\n",
    "\n",
    "plt.tight_layout()\n",
    "plt.show()"
   ]
  },
  {
   "cell_type": "markdown",
   "metadata": {},
   "source": [
    "As it's shown on charts, 3-days is the most popular option for hosts to accept, meanwhile for searchers it's 2-days.\n",
    "Also, 4-days option is higher accepted than 1-day option for searchers.\\\n",
    "So, hosts more tend to accept a little bit longer options range then users search."
   ]
  },
  {
   "cell_type": "code",
   "execution_count": 18,
   "metadata": {
    "ExecuteTime": {
     "end_time": "2023-07-08T08:07:59.999458400Z",
     "start_time": "2023-07-08T08:07:59.842512300Z"
    },
    "collapsed": false,
    "jupyter": {
     "outputs_hidden": false
    }
   },
   "outputs": [
    {
     "data": {
      "image/png": "[encoded data removed]",
      "text/plain": [
       "<Figure size 640x480 with 1 Axes>"
      ]
     },
     "metadata": {},
     "output_type": "display_data"
    }
   ],
   "source": [
    "#Accepted inquiries for num of guests\n",
    "guests_status = contacts.groupby(['n_guests', 'status']).size().reset_index(name='count')\n",
    "guests_accptd = guests_status[guests_status['status']=='Accepted']\n",
    "\n",
    "#Bulit bar chart\n",
    "sns.barplot(data=guests_accptd, x='n_guests', y='count', errorbar=None, color='blue')\n",
    "plt.xlabel('guests')\n",
    "plt.ylabel('inquiries')\n",
    "plt.title('Accepted inquiries for num of guests')\n",
    "\n",
    "plt.show()"
   ]
  },
  {
   "cell_type": "markdown",
   "metadata": {},
   "source": [
    "The most popular num of guest option is 2 for hosts, however for searchers is 1. In addition, 3-4 options are also common.\\\n",
    "We can make assumption that there are lack of supply for 1 bad rooms in the city."
   ]
  },
  {
   "cell_type": "code",
   "execution_count": 19,
   "metadata": {
    "ExecuteTime": {
     "end_time": "2023-07-08T08:08:00.023265500Z",
     "start_time": "2023-07-08T08:08:00.000459300Z"
    },
    "collapsed": false,
    "jupyter": {
     "outputs_hidden": false
    }
   },
   "outputs": [
    {
     "data": {
      "text/html": [
       "<div>\n",
       "<style scoped>\n",
       "    .dataframe tbody tr th:only-of-type {\n",
       "        vertical-align: middle;\n",
       "    }\n",
       "\n",
       "    .dataframe tbody tr th {\n",
       "        vertical-align: top;\n",
       "    }\n",
       "\n",
       "    .dataframe thead th {\n",
       "        text-align: right;\n",
       "    }\n",
       "</style>\n",
       "<table border=\"1\" class=\"dataframe\">\n",
       "  <thead>\n",
       "    <tr style=\"text-align: right;\">\n",
       "      <th>status</th>\n",
       "      <th>ds_checkin</th>\n",
       "      <th>Accepted</th>\n",
       "      <th>Not Accepted</th>\n",
       "      <th>Total inquiries</th>\n",
       "      <th>Accept ratio</th>\n",
       "    </tr>\n",
       "  </thead>\n",
       "  <tbody>\n",
       "    <tr>\n",
       "      <th>0</th>\n",
       "      <td>1</td>\n",
       "      <td>73</td>\n",
       "      <td>74</td>\n",
       "      <td>147</td>\n",
       "      <td>0.496599</td>\n",
       "    </tr>\n",
       "    <tr>\n",
       "      <th>1</th>\n",
       "      <td>2</td>\n",
       "      <td>46</td>\n",
       "      <td>52</td>\n",
       "      <td>98</td>\n",
       "      <td>0.469388</td>\n",
       "    </tr>\n",
       "    <tr>\n",
       "      <th>2</th>\n",
       "      <td>3</td>\n",
       "      <td>126</td>\n",
       "      <td>277</td>\n",
       "      <td>403</td>\n",
       "      <td>0.312655</td>\n",
       "    </tr>\n",
       "    <tr>\n",
       "      <th>3</th>\n",
       "      <td>4</td>\n",
       "      <td>26</td>\n",
       "      <td>10</td>\n",
       "      <td>36</td>\n",
       "      <td>0.722222</td>\n",
       "    </tr>\n",
       "    <tr>\n",
       "      <th>4</th>\n",
       "      <td>5</td>\n",
       "      <td>30</td>\n",
       "      <td>29</td>\n",
       "      <td>59</td>\n",
       "      <td>0.508475</td>\n",
       "    </tr>\n",
       "    <tr>\n",
       "      <th>5</th>\n",
       "      <td>6</td>\n",
       "      <td>18</td>\n",
       "      <td>24</td>\n",
       "      <td>42</td>\n",
       "      <td>0.428571</td>\n",
       "    </tr>\n",
       "    <tr>\n",
       "      <th>6</th>\n",
       "      <td>7</td>\n",
       "      <td>17</td>\n",
       "      <td>30</td>\n",
       "      <td>47</td>\n",
       "      <td>0.361702</td>\n",
       "    </tr>\n",
       "    <tr>\n",
       "      <th>7</th>\n",
       "      <td>8</td>\n",
       "      <td>11</td>\n",
       "      <td>25</td>\n",
       "      <td>36</td>\n",
       "      <td>0.305556</td>\n",
       "    </tr>\n",
       "    <tr>\n",
       "      <th>8</th>\n",
       "      <td>9</td>\n",
       "      <td>2</td>\n",
       "      <td>6</td>\n",
       "      <td>8</td>\n",
       "      <td>0.250000</td>\n",
       "    </tr>\n",
       "    <tr>\n",
       "      <th>9</th>\n",
       "      <td>10</td>\n",
       "      <td>1770</td>\n",
       "      <td>2162</td>\n",
       "      <td>3932</td>\n",
       "      <td>0.450153</td>\n",
       "    </tr>\n",
       "    <tr>\n",
       "      <th>10</th>\n",
       "      <td>11</td>\n",
       "      <td>1109</td>\n",
       "      <td>1018</td>\n",
       "      <td>2127</td>\n",
       "      <td>0.521392</td>\n",
       "    </tr>\n",
       "    <tr>\n",
       "      <th>11</th>\n",
       "      <td>12</td>\n",
       "      <td>399</td>\n",
       "      <td>489</td>\n",
       "      <td>888</td>\n",
       "      <td>0.449324</td>\n",
       "    </tr>\n",
       "  </tbody>\n",
       "</table>\n",
       "</div>"
      ],
      "text/plain": [
       "status  ds_checkin  Accepted  Not Accepted  Total inquiries  Accept ratio\n",
       "0                1        73            74              147      0.496599\n",
       "1                2        46            52               98      0.469388\n",
       "2                3       126           277              403      0.312655\n",
       "3                4        26            10               36      0.722222\n",
       "4                5        30            29               59      0.508475\n",
       "5                6        18            24               42      0.428571\n",
       "6                7        17            30               47      0.361702\n",
       "7                8        11            25               36      0.305556\n",
       "8                9         2             6                8      0.250000\n",
       "9               10      1770          2162             3932      0.450153\n",
       "10              11      1109          1018             2127      0.521392\n",
       "11              12       399           489              888      0.449324"
      ]
     },
     "execution_count": 19,
     "metadata": {},
     "output_type": "execute_result"
    }
   ],
   "source": [
    "#Let's look at demand over months. Use checkin date\n",
    "month_accpt_rate = contacts.groupby([contacts['ds_checkin'].dt.month, 'status']).size()\\\n",
    "    .reset_index(name='count')\\\n",
    "    .pivot(columns='status', index='ds_checkin', values='count')\\\n",
    "    .reset_index()\n",
    "\n",
    "#Add 'Accept ratio' and 'Total inquiries' for better visualisation\n",
    "month_accpt_rate['Total inquiries'] = month_accpt_rate['Accepted'] + month_accpt_rate['Not Accepted']\n",
    "month_accpt_rate['Accept ratio'] = month_accpt_rate['Accepted'] / month_accpt_rate['Total inquiries']\n",
    "\n",
    "month_accpt_rate"
   ]
  },
  {
   "cell_type": "code",
   "execution_count": 20,
   "metadata": {
    "ExecuteTime": {
     "end_time": "2023-07-08T08:08:00.266501800Z",
     "start_time": "2023-07-08T08:08:00.039409Z"
    },
    "collapsed": false,
    "jupyter": {
     "outputs_hidden": false
    }
   },
   "outputs": [
    {
     "data": {
      "image/png": "[encoded data removed]",
      "text/plain": [
       "<Figure size 640x480 with 2 Axes>"
      ]
     },
     "metadata": {},
     "output_type": "display_data"
    }
   ],
   "source": [
    "#Build bar chart along with line chart of acceptance ratio\n",
    "fig, ax1 = plt.subplots()\n",
    "\n",
    "#Bar chart\n",
    "sns.barplot(data = month_accpt_rate, x='ds_checkin', y='Total inquiries', ax=ax1, color='blue')\n",
    "plt.xlabel('check-in month')\n",
    "\n",
    "ax2 = ax1.twinx() #add axis\n",
    "\n",
    "#Line chart\n",
    "sns.lineplot(data = month_accpt_rate['Accept ratio'], marker='o', sort = False, ax=ax2)\n",
    "ax2.grid(False) #remove grid line\n",
    "plt.title('Demand and acceptance rate over months')\n",
    "\n",
    "plt.show()"
   ]
  },
  {
   "cell_type": "markdown",
   "metadata": {},
   "source": [
    "It seems that the most popular month for a trip to Dubplin is October and overall fall-winter period. With the most acceptance rate in November (52.1%).\\\n",
    "Spring and summer is less popular seasons.\n"
   ]
  },
  {
   "cell_type": "code",
   "execution_count": 21,
   "metadata": {
    "ExecuteTime": {
     "end_time": "2023-07-08T08:08:00.341987100Z",
     "start_time": "2023-07-08T08:08:00.267514500Z"
    },
    "collapsed": false,
    "jupyter": {
     "outputs_hidden": false
    }
   },
   "outputs": [],
   "source": [
    "#Let's see if there is difference in acceptance rate for different price\n",
    "\n",
    "#Merge datasets for more analysis\n",
    "merged_datasets = contacts.merge(searches, left_on='id_guest', right_on='id_user')"
   ]
  },
  {
   "cell_type": "code",
   "execution_count": 22,
   "metadata": {
    "ExecuteTime": {
     "end_time": "2023-07-08T08:08:00.343051900Z",
     "start_time": "2023-07-08T08:08:00.290112600Z"
    },
    "collapsed": false,
    "jupyter": {
     "outputs_hidden": false
    }
   },
   "outputs": [],
   "source": [
    "#Write classification price function based on 'filter_price_max' ('filter_price_min' mostly zero)\n",
    "def price_class(price):\n",
    "    if price >= 0. and price < 100.:\n",
    "        return '0-100'\n",
    "    elif price >= 100. and price < 200.:\n",
    "        return '100-200'\n",
    "    elif price >= 200. and price < 300.:\n",
    "        return '200-300'\n",
    "    elif price >= 300. and price < 400.:\n",
    "        return '300-400'\n",
    "    elif price >= 400. and price < 500.:\n",
    "        return '400-500'\n",
    "    elif price >= 500. and price < 600.:\n",
    "        return '500-600'\n",
    "    elif price >= 600. and price < 700.:\n",
    "        return '600-700'\n",
    "    elif price >= 700. and price < 800.:\n",
    "        return '700-800'\n",
    "    elif price >= 800. and price < 900.:\n",
    "        return '800-900'\n",
    "    elif price >= 900. and price < 1000.:\n",
    "        return '900-1000'\n",
    "    else:\n",
    "        return '1000+'"
   ]
  },
  {
   "cell_type": "code",
   "execution_count": 23,
   "metadata": {
    "ExecuteTime": {
     "end_time": "2023-07-08T08:08:00.344061400Z",
     "start_time": "2023-07-08T08:08:00.297723900Z"
    },
    "collapsed": false,
    "jupyter": {
     "outputs_hidden": false
    }
   },
   "outputs": [],
   "source": [
    "#Add column for price classification\n",
    "merged_datasets['price_category'] = merged_datasets.filter_price_max.apply(price_class)\n",
    "\n",
    "#Create pivot table and filter out values which above 1200 (10% of dataset)\n",
    "price_cat_status = merged_datasets[merged_datasets['filter_price_max']<=1200]\\\n",
    "    .groupby(['price_category', 'status']).size()\\\n",
    "    .reset_index(name='count')\\\n",
    "    .pivot(columns='status', index='price_category', values='count')\\\n",
    "    .reset_index()"
   ]
  },
  {
   "cell_type": "code",
   "execution_count": 24,
   "metadata": {
    "ExecuteTime": {
     "end_time": "2023-07-08T08:08:00.345052500Z",
     "start_time": "2023-07-08T08:08:00.321937900Z"
    },
    "collapsed": false,
    "jupyter": {
     "outputs_hidden": false
    }
   },
   "outputs": [
    {
     "data": {
      "text/html": [
       "<div>\n",
       "<style scoped>\n",
       "    .dataframe tbody tr th:only-of-type {\n",
       "        vertical-align: middle;\n",
       "    }\n",
       "\n",
       "    .dataframe tbody tr th {\n",
       "        vertical-align: top;\n",
       "    }\n",
       "\n",
       "    .dataframe thead th {\n",
       "        text-align: right;\n",
       "    }\n",
       "</style>\n",
       "<table border=\"1\" class=\"dataframe\">\n",
       "  <thead>\n",
       "    <tr style=\"text-align: right;\">\n",
       "      <th>status</th>\n",
       "      <th>price_category</th>\n",
       "      <th>Accept ratio</th>\n",
       "    </tr>\n",
       "  </thead>\n",
       "  <tbody>\n",
       "    <tr>\n",
       "      <th>0</th>\n",
       "      <td>0-100</td>\n",
       "      <td>0.411160</td>\n",
       "    </tr>\n",
       "    <tr>\n",
       "      <th>1</th>\n",
       "      <td>100-200</td>\n",
       "      <td>0.430308</td>\n",
       "    </tr>\n",
       "    <tr>\n",
       "      <th>2</th>\n",
       "      <td>1000+</td>\n",
       "      <td>0.469880</td>\n",
       "    </tr>\n",
       "    <tr>\n",
       "      <th>3</th>\n",
       "      <td>200-300</td>\n",
       "      <td>0.431149</td>\n",
       "    </tr>\n",
       "    <tr>\n",
       "      <th>4</th>\n",
       "      <td>300-400</td>\n",
       "      <td>0.450488</td>\n",
       "    </tr>\n",
       "    <tr>\n",
       "      <th>5</th>\n",
       "      <td>400-500</td>\n",
       "      <td>0.485549</td>\n",
       "    </tr>\n",
       "    <tr>\n",
       "      <th>6</th>\n",
       "      <td>500-600</td>\n",
       "      <td>0.422297</td>\n",
       "    </tr>\n",
       "    <tr>\n",
       "      <th>7</th>\n",
       "      <td>600-700</td>\n",
       "      <td>0.424837</td>\n",
       "    </tr>\n",
       "    <tr>\n",
       "      <th>8</th>\n",
       "      <td>700-800</td>\n",
       "      <td>0.522013</td>\n",
       "    </tr>\n",
       "    <tr>\n",
       "      <th>9</th>\n",
       "      <td>800-900</td>\n",
       "      <td>0.380645</td>\n",
       "    </tr>\n",
       "    <tr>\n",
       "      <th>10</th>\n",
       "      <td>900-1000</td>\n",
       "      <td>0.428571</td>\n",
       "    </tr>\n",
       "  </tbody>\n",
       "</table>\n",
       "</div>"
      ],
      "text/plain": [
       "status price_category  Accept ratio\n",
       "0               0-100      0.411160\n",
       "1             100-200      0.430308\n",
       "2               1000+      0.469880\n",
       "3             200-300      0.431149\n",
       "4             300-400      0.450488\n",
       "5             400-500      0.485549\n",
       "6             500-600      0.422297\n",
       "7             600-700      0.424837\n",
       "8             700-800      0.522013\n",
       "9             800-900      0.380645\n",
       "10           900-1000      0.428571"
      ]
     },
     "execution_count": 24,
     "metadata": {},
     "output_type": "execute_result"
    }
   ],
   "source": [
    "#Calculate acceptence ratio\n",
    "price_cat_status['Accept ratio'] = price_cat_status['Accepted'] / (price_cat_status['Accepted'] + price_cat_status['Not Accepted'])\n",
    "\n",
    "price_cat_status[['price_category', 'Accept ratio']]"
   ]
  },
  {
   "cell_type": "markdown",
   "metadata": {},
   "source": [
    "Inquiries accepted by host almost the same regardless price"
   ]
  }
 ],
 "metadata": {
  "kernelspec": {
   "display_name": "Python 3 (ipykernel)",
   "language": "python",
   "name": "python3"
  },
  "language_info": {
   "codemirror_mode": {
    "name": "ipython",
    "version": 3
   },
   "file_extension": ".py",
   "mimetype": "text/x-python",
   "name": "python",
   "nbconvert_exporter": "python",
   "pygments_lexer": "ipython3",
   "version": "3.10.9"
  }
 },
 "nbformat": 4,
 "nbformat_minor": 4
}
